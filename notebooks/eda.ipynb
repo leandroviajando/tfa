{
 "cells": [
  {
   "cell_type": "markdown",
   "metadata": {},
   "source": [
    "# EDA"
   ]
  },
  {
   "cell_type": "code",
   "execution_count": 1,
   "metadata": {},
   "outputs": [],
   "source": [
    "import os\n",
    "import pandas as pd\n",
    "import sqlalchemy"
   ]
  },
  {
   "cell_type": "markdown",
   "metadata": {},
   "source": [
    "## DB Connection"
   ]
  },
  {
   "cell_type": "code",
   "execution_count": 2,
   "metadata": {},
   "outputs": [],
   "source": [
    "user = os.getenv(\"POSTGRES_USER\")\n",
    "password = os.getenv(\"POSTGRES_PASSWORD\")\n",
    "server = os.getenv(\"POSTGRES_SERVER\")\n",
    "port = os.getenv(\"POSTGRES_PORT\")\n",
    "db = os.getenv(\"POSTGRES_DB\")\n",
    "\n",
    "database_uri = f\"postgresql://{user}:{password}@{server}:{port}/{db}\"\n",
    "\n",
    "engine = sqlalchemy.create_engine(database_uri)"
   ]
  },
  {
   "cell_type": "markdown",
   "metadata": {},
   "source": [
    "## Tables"
   ]
  },
  {
   "cell_type": "code",
   "execution_count": 3,
   "metadata": {},
   "outputs": [],
   "source": [
    "balance_movements = pd.read_sql(\"SELECT * FROM balance_movements;\", con=engine, index_col=\"id\")\n",
    "receiving_partner_balances = pd.read_sql(\"SELECT * FROM receiving_partner_balances;\", con=engine, index_col=\"id\")"
   ]
  },
  {
   "cell_type": "code",
   "execution_count": 4,
   "metadata": {},
   "outputs": [
    {
     "data": {
      "text/html": [
       "<div>\n",
       "<style scoped>\n",
       "    .dataframe tbody tr th:only-of-type {\n",
       "        vertical-align: middle;\n",
       "    }\n",
       "\n",
       "    .dataframe tbody tr th {\n",
       "        vertical-align: top;\n",
       "    }\n",
       "\n",
       "    .dataframe thead th {\n",
       "        text-align: right;\n",
       "    }\n",
       "</style>\n",
       "<table border=\"1\" class=\"dataframe\">\n",
       "  <thead>\n",
       "    <tr style=\"text-align: right;\">\n",
       "      <th></th>\n",
       "      <th>sending_partner_id</th>\n",
       "      <th>receiving_partner_id</th>\n",
       "      <th>balance_movement_amount</th>\n",
       "      <th>balance_movement_date</th>\n",
       "      <th>balance_id</th>\n",
       "    </tr>\n",
       "    <tr>\n",
       "      <th>id</th>\n",
       "      <th></th>\n",
       "      <th></th>\n",
       "      <th></th>\n",
       "      <th></th>\n",
       "      <th></th>\n",
       "    </tr>\n",
       "  </thead>\n",
       "  <tbody>\n",
       "    <tr>\n",
       "      <th>1</th>\n",
       "      <td>329</td>\n",
       "      <td>415</td>\n",
       "      <td>1520.7484</td>\n",
       "      <td>2022-01-01</td>\n",
       "      <td>120</td>\n",
       "    </tr>\n",
       "    <tr>\n",
       "      <th>2</th>\n",
       "      <td>215</td>\n",
       "      <td>415</td>\n",
       "      <td>3106.0535</td>\n",
       "      <td>2022-01-01</td>\n",
       "      <td>120</td>\n",
       "    </tr>\n",
       "    <tr>\n",
       "      <th>3</th>\n",
       "      <td>286</td>\n",
       "      <td>415</td>\n",
       "      <td>29097.7593</td>\n",
       "      <td>2022-01-01</td>\n",
       "      <td>120</td>\n",
       "    </tr>\n",
       "    <tr>\n",
       "      <th>4</th>\n",
       "      <td>212</td>\n",
       "      <td>415</td>\n",
       "      <td>15372.1173</td>\n",
       "      <td>2022-01-01</td>\n",
       "      <td>120</td>\n",
       "    </tr>\n",
       "    <tr>\n",
       "      <th>5</th>\n",
       "      <td>225</td>\n",
       "      <td>415</td>\n",
       "      <td>14170.9800</td>\n",
       "      <td>2022-01-01</td>\n",
       "      <td>120</td>\n",
       "    </tr>\n",
       "  </tbody>\n",
       "</table>\n",
       "</div>"
      ],
      "text/plain": [
       "    sending_partner_id  receiving_partner_id  balance_movement_amount  \\\n",
       "id                                                                      \n",
       "1                  329                   415                1520.7484   \n",
       "2                  215                   415                3106.0535   \n",
       "3                  286                   415               29097.7593   \n",
       "4                  212                   415               15372.1173   \n",
       "5                  225                   415               14170.9800   \n",
       "\n",
       "   balance_movement_date  balance_id  \n",
       "id                                    \n",
       "1             2022-01-01         120  \n",
       "2             2022-01-01         120  \n",
       "3             2022-01-01         120  \n",
       "4             2022-01-01         120  \n",
       "5             2022-01-01         120  "
      ]
     },
     "execution_count": 4,
     "metadata": {},
     "output_type": "execute_result"
    }
   ],
   "source": [
    "balance_movements.head()"
   ]
  },
  {
   "cell_type": "code",
   "execution_count": 5,
   "metadata": {
    "scrolled": true
   },
   "outputs": [
    {
     "data": {
      "text/html": [
       "<div>\n",
       "<style scoped>\n",
       "    .dataframe tbody tr th:only-of-type {\n",
       "        vertical-align: middle;\n",
       "    }\n",
       "\n",
       "    .dataframe tbody tr th {\n",
       "        vertical-align: top;\n",
       "    }\n",
       "\n",
       "    .dataframe thead th {\n",
       "        text-align: right;\n",
       "    }\n",
       "</style>\n",
       "<table border=\"1\" class=\"dataframe\">\n",
       "  <thead>\n",
       "    <tr style=\"text-align: right;\">\n",
       "      <th></th>\n",
       "      <th>sending_partner_id</th>\n",
       "      <th>receiving_partner_id</th>\n",
       "      <th>balance_movement_amount</th>\n",
       "      <th>balance_movement_date</th>\n",
       "      <th>balance_id</th>\n",
       "    </tr>\n",
       "  </thead>\n",
       "  <tbody>\n",
       "    <tr>\n",
       "      <th>count</th>\n",
       "      <td>405.000000</td>\n",
       "      <td>405.000000</td>\n",
       "      <td>405.000000</td>\n",
       "      <td>405</td>\n",
       "      <td>405.000000</td>\n",
       "    </tr>\n",
       "    <tr>\n",
       "      <th>mean</th>\n",
       "      <td>264.044444</td>\n",
       "      <td>422.992593</td>\n",
       "      <td>9932.078885</td>\n",
       "      <td>2022-01-16 08:35:33.333333504</td>\n",
       "      <td>128.955556</td>\n",
       "    </tr>\n",
       "    <tr>\n",
       "      <th>min</th>\n",
       "      <td>181.000000</td>\n",
       "      <td>415.000000</td>\n",
       "      <td>-54.386000</td>\n",
       "      <td>2022-01-01 00:00:00</td>\n",
       "      <td>120.000000</td>\n",
       "    </tr>\n",
       "    <tr>\n",
       "      <th>25%</th>\n",
       "      <td>214.000000</td>\n",
       "      <td>415.000000</td>\n",
       "      <td>624.004000</td>\n",
       "      <td>2022-01-08 00:00:00</td>\n",
       "      <td>120.000000</td>\n",
       "    </tr>\n",
       "    <tr>\n",
       "      <th>50%</th>\n",
       "      <td>286.000000</td>\n",
       "      <td>415.000000</td>\n",
       "      <td>3497.612100</td>\n",
       "      <td>2022-01-16 00:00:00</td>\n",
       "      <td>120.000000</td>\n",
       "    </tr>\n",
       "    <tr>\n",
       "      <th>75%</th>\n",
       "      <td>321.000000</td>\n",
       "      <td>415.000000</td>\n",
       "      <td>11534.853300</td>\n",
       "      <td>2022-01-24 00:00:00</td>\n",
       "      <td>120.000000</td>\n",
       "    </tr>\n",
       "    <tr>\n",
       "      <th>max</th>\n",
       "      <td>348.000000</td>\n",
       "      <td>498.000000</td>\n",
       "      <td>140708.036200</td>\n",
       "      <td>2022-02-01 00:00:00</td>\n",
       "      <td>213.000000</td>\n",
       "    </tr>\n",
       "    <tr>\n",
       "      <th>std</th>\n",
       "      <td>53.742953</td>\n",
       "      <td>24.515048</td>\n",
       "      <td>16907.664205</td>\n",
       "      <td>NaN</td>\n",
       "      <td>27.468668</td>\n",
       "    </tr>\n",
       "  </tbody>\n",
       "</table>\n",
       "</div>"
      ],
      "text/plain": [
       "       sending_partner_id  receiving_partner_id  balance_movement_amount  \\\n",
       "count          405.000000            405.000000               405.000000   \n",
       "mean           264.044444            422.992593              9932.078885   \n",
       "min            181.000000            415.000000               -54.386000   \n",
       "25%            214.000000            415.000000               624.004000   \n",
       "50%            286.000000            415.000000              3497.612100   \n",
       "75%            321.000000            415.000000             11534.853300   \n",
       "max            348.000000            498.000000            140708.036200   \n",
       "std             53.742953             24.515048             16907.664205   \n",
       "\n",
       "               balance_movement_date  balance_id  \n",
       "count                            405  405.000000  \n",
       "mean   2022-01-16 08:35:33.333333504  128.955556  \n",
       "min              2022-01-01 00:00:00  120.000000  \n",
       "25%              2022-01-08 00:00:00  120.000000  \n",
       "50%              2022-01-16 00:00:00  120.000000  \n",
       "75%              2022-01-24 00:00:00  120.000000  \n",
       "max              2022-02-01 00:00:00  213.000000  \n",
       "std                              NaN   27.468668  "
      ]
     },
     "execution_count": 5,
     "metadata": {},
     "output_type": "execute_result"
    }
   ],
   "source": [
    "balance_movements.describe()"
   ]
  },
  {
   "cell_type": "markdown",
   "metadata": {},
   "source": [
    "There are also negative balances"
   ]
  },
  {
   "cell_type": "code",
   "execution_count": 6,
   "metadata": {},
   "outputs": [
    {
     "data": {
      "text/html": [
       "<div>\n",
       "<style scoped>\n",
       "    .dataframe tbody tr th:only-of-type {\n",
       "        vertical-align: middle;\n",
       "    }\n",
       "\n",
       "    .dataframe tbody tr th {\n",
       "        vertical-align: top;\n",
       "    }\n",
       "\n",
       "    .dataframe thead th {\n",
       "        text-align: right;\n",
       "    }\n",
       "</style>\n",
       "<table border=\"1\" class=\"dataframe\">\n",
       "  <thead>\n",
       "    <tr style=\"text-align: right;\">\n",
       "      <th></th>\n",
       "      <th>sending_partner_id</th>\n",
       "      <th>receiving_partner_id</th>\n",
       "      <th>balance_movement_amount</th>\n",
       "      <th>balance_movement_date</th>\n",
       "      <th>balance_id</th>\n",
       "    </tr>\n",
       "    <tr>\n",
       "      <th>id</th>\n",
       "      <th></th>\n",
       "      <th></th>\n",
       "      <th></th>\n",
       "      <th></th>\n",
       "      <th></th>\n",
       "    </tr>\n",
       "  </thead>\n",
       "  <tbody>\n",
       "    <tr>\n",
       "      <th>377</th>\n",
       "      <td>319</td>\n",
       "      <td>498</td>\n",
       "      <td>-0.002</td>\n",
       "      <td>2022-01-10</td>\n",
       "      <td>213</td>\n",
       "    </tr>\n",
       "    <tr>\n",
       "      <th>403</th>\n",
       "      <td>327</td>\n",
       "      <td>498</td>\n",
       "      <td>-54.386</td>\n",
       "      <td>2022-01-31</td>\n",
       "      <td>213</td>\n",
       "    </tr>\n",
       "  </tbody>\n",
       "</table>\n",
       "</div>"
      ],
      "text/plain": [
       "     sending_partner_id  receiving_partner_id  balance_movement_amount  \\\n",
       "id                                                                       \n",
       "377                 319                   498                   -0.002   \n",
       "403                 327                   498                  -54.386   \n",
       "\n",
       "    balance_movement_date  balance_id  \n",
       "id                                     \n",
       "377            2022-01-10         213  \n",
       "403            2022-01-31         213  "
      ]
     },
     "execution_count": 6,
     "metadata": {},
     "output_type": "execute_result"
    }
   ],
   "source": [
    "balance_movements.loc[balance_movements[\"balance_movement_amount\"] < 0]"
   ]
  },
  {
   "cell_type": "code",
   "execution_count": 7,
   "metadata": {},
   "outputs": [
    {
     "name": "stdout",
     "output_type": "stream",
     "text": [
      "<class 'pandas.core.frame.DataFrame'>\n",
      "Index: 405 entries, 1 to 405\n",
      "Data columns (total 5 columns):\n",
      " #   Column                   Non-Null Count  Dtype         \n",
      "---  ------                   --------------  -----         \n",
      " 0   sending_partner_id       405 non-null    int64         \n",
      " 1   receiving_partner_id     405 non-null    int64         \n",
      " 2   balance_movement_amount  405 non-null    float64       \n",
      " 3   balance_movement_date    405 non-null    datetime64[ns]\n",
      " 4   balance_id               405 non-null    int64         \n",
      "dtypes: datetime64[ns](1), float64(1), int64(3)\n",
      "memory usage: 19.0 KB\n"
     ]
    }
   ],
   "source": [
    "balance_movements.info()"
   ]
  },
  {
   "cell_type": "code",
   "execution_count": 8,
   "metadata": {},
   "outputs": [
    {
     "data": {
      "text/html": [
       "<div>\n",
       "<style scoped>\n",
       "    .dataframe tbody tr th:only-of-type {\n",
       "        vertical-align: middle;\n",
       "    }\n",
       "\n",
       "    .dataframe tbody tr th {\n",
       "        vertical-align: top;\n",
       "    }\n",
       "\n",
       "    .dataframe thead th {\n",
       "        text-align: right;\n",
       "    }\n",
       "</style>\n",
       "<table border=\"1\" class=\"dataframe\">\n",
       "  <thead>\n",
       "    <tr style=\"text-align: right;\">\n",
       "      <th></th>\n",
       "      <th>balance_id</th>\n",
       "      <th>available_balance</th>\n",
       "      <th>balance_snapshot_date</th>\n",
       "      <th>creation_date</th>\n",
       "    </tr>\n",
       "    <tr>\n",
       "      <th>id</th>\n",
       "      <th></th>\n",
       "      <th></th>\n",
       "      <th></th>\n",
       "      <th></th>\n",
       "    </tr>\n",
       "  </thead>\n",
       "  <tbody>\n",
       "    <tr>\n",
       "      <th>1</th>\n",
       "      <td>120</td>\n",
       "      <td>221411.0430</td>\n",
       "      <td>2022-01-06</td>\n",
       "      <td>2023-07-29 13:00:37.590645</td>\n",
       "    </tr>\n",
       "    <tr>\n",
       "      <th>2</th>\n",
       "      <td>120</td>\n",
       "      <td>163423.0976</td>\n",
       "      <td>2022-01-13</td>\n",
       "      <td>2023-07-29 13:00:37.590645</td>\n",
       "    </tr>\n",
       "    <tr>\n",
       "      <th>3</th>\n",
       "      <td>120</td>\n",
       "      <td>478599.2280</td>\n",
       "      <td>2022-01-15</td>\n",
       "      <td>2023-07-29 13:00:37.590645</td>\n",
       "    </tr>\n",
       "    <tr>\n",
       "      <th>4</th>\n",
       "      <td>120</td>\n",
       "      <td>32474.3252</td>\n",
       "      <td>2022-01-18</td>\n",
       "      <td>2023-07-29 13:00:37.590645</td>\n",
       "    </tr>\n",
       "    <tr>\n",
       "      <th>5</th>\n",
       "      <td>120</td>\n",
       "      <td>307843.9036</td>\n",
       "      <td>2022-01-20</td>\n",
       "      <td>2023-07-29 13:00:37.590645</td>\n",
       "    </tr>\n",
       "  </tbody>\n",
       "</table>\n",
       "</div>"
      ],
      "text/plain": [
       "    balance_id  available_balance balance_snapshot_date  \\\n",
       "id                                                        \n",
       "1          120        221411.0430            2022-01-06   \n",
       "2          120        163423.0976            2022-01-13   \n",
       "3          120        478599.2280            2022-01-15   \n",
       "4          120         32474.3252            2022-01-18   \n",
       "5          120        307843.9036            2022-01-20   \n",
       "\n",
       "                creation_date  \n",
       "id                             \n",
       "1  2023-07-29 13:00:37.590645  \n",
       "2  2023-07-29 13:00:37.590645  \n",
       "3  2023-07-29 13:00:37.590645  \n",
       "4  2023-07-29 13:00:37.590645  \n",
       "5  2023-07-29 13:00:37.590645  "
      ]
     },
     "execution_count": 8,
     "metadata": {},
     "output_type": "execute_result"
    }
   ],
   "source": [
    "receiving_partner_balances.head()"
   ]
  },
  {
   "cell_type": "code",
   "execution_count": 9,
   "metadata": {},
   "outputs": [
    {
     "data": {
      "text/html": [
       "<div>\n",
       "<style scoped>\n",
       "    .dataframe tbody tr th:only-of-type {\n",
       "        vertical-align: middle;\n",
       "    }\n",
       "\n",
       "    .dataframe tbody tr th {\n",
       "        vertical-align: top;\n",
       "    }\n",
       "\n",
       "    .dataframe thead th {\n",
       "        text-align: right;\n",
       "    }\n",
       "</style>\n",
       "<table border=\"1\" class=\"dataframe\">\n",
       "  <thead>\n",
       "    <tr style=\"text-align: right;\">\n",
       "      <th></th>\n",
       "      <th>balance_id</th>\n",
       "      <th>available_balance</th>\n",
       "      <th>balance_snapshot_date</th>\n",
       "      <th>creation_date</th>\n",
       "    </tr>\n",
       "  </thead>\n",
       "  <tbody>\n",
       "    <tr>\n",
       "      <th>count</th>\n",
       "      <td>65.000000</td>\n",
       "      <td>65.000000</td>\n",
       "      <td>65</td>\n",
       "      <td>65</td>\n",
       "    </tr>\n",
       "    <tr>\n",
       "      <th>mean</th>\n",
       "      <td>167.215385</td>\n",
       "      <td>120569.631582</td>\n",
       "      <td>2022-01-16 18:05:32.307692288</td>\n",
       "      <td>2023-07-29 23:40:28.456662784</td>\n",
       "    </tr>\n",
       "    <tr>\n",
       "      <th>min</th>\n",
       "      <td>120.000000</td>\n",
       "      <td>-44874.724500</td>\n",
       "      <td>2022-01-01 00:00:00</td>\n",
       "      <td>2023-07-29 13:00:37.590645</td>\n",
       "    </tr>\n",
       "    <tr>\n",
       "      <th>25%</th>\n",
       "      <td>120.000000</td>\n",
       "      <td>2470.108100</td>\n",
       "      <td>2022-01-09 00:00:00</td>\n",
       "      <td>2023-07-29 13:00:37.590644992</td>\n",
       "    </tr>\n",
       "    <tr>\n",
       "      <th>50%</th>\n",
       "      <td>213.000000</td>\n",
       "      <td>8603.673100</td>\n",
       "      <td>2022-01-17 00:00:00</td>\n",
       "      <td>2023-07-29 13:00:37.590644992</td>\n",
       "    </tr>\n",
       "    <tr>\n",
       "      <th>75%</th>\n",
       "      <td>213.000000</td>\n",
       "      <td>221411.043000</td>\n",
       "      <td>2022-01-25 00:00:00</td>\n",
       "      <td>2023-07-29 13:00:37.590644992</td>\n",
       "    </tr>\n",
       "    <tr>\n",
       "      <th>max</th>\n",
       "      <td>213.000000</td>\n",
       "      <td>478599.228000</td>\n",
       "      <td>2022-02-02 00:00:00</td>\n",
       "      <td>2023-08-27 10:10:43.881802</td>\n",
       "    </tr>\n",
       "    <tr>\n",
       "      <th>std</th>\n",
       "      <td>46.856327</td>\n",
       "      <td>152543.660056</td>\n",
       "      <td>NaN</td>\n",
       "      <td>NaN</td>\n",
       "    </tr>\n",
       "  </tbody>\n",
       "</table>\n",
       "</div>"
      ],
      "text/plain": [
       "       balance_id  available_balance          balance_snapshot_date  \\\n",
       "count   65.000000          65.000000                             65   \n",
       "mean   167.215385      120569.631582  2022-01-16 18:05:32.307692288   \n",
       "min    120.000000      -44874.724500            2022-01-01 00:00:00   \n",
       "25%    120.000000        2470.108100            2022-01-09 00:00:00   \n",
       "50%    213.000000        8603.673100            2022-01-17 00:00:00   \n",
       "75%    213.000000      221411.043000            2022-01-25 00:00:00   \n",
       "max    213.000000      478599.228000            2022-02-02 00:00:00   \n",
       "std     46.856327      152543.660056                            NaN   \n",
       "\n",
       "                       creation_date  \n",
       "count                             65  \n",
       "mean   2023-07-29 23:40:28.456662784  \n",
       "min       2023-07-29 13:00:37.590645  \n",
       "25%    2023-07-29 13:00:37.590644992  \n",
       "50%    2023-07-29 13:00:37.590644992  \n",
       "75%    2023-07-29 13:00:37.590644992  \n",
       "max       2023-08-27 10:10:43.881802  \n",
       "std                              NaN  "
      ]
     },
     "execution_count": 9,
     "metadata": {},
     "output_type": "execute_result"
    }
   ],
   "source": [
    "receiving_partner_balances.describe()"
   ]
  },
  {
   "cell_type": "code",
   "execution_count": 10,
   "metadata": {},
   "outputs": [
    {
     "name": "stdout",
     "output_type": "stream",
     "text": [
      "<class 'pandas.core.frame.DataFrame'>\n",
      "Index: 65 entries, 1 to 75\n",
      "Data columns (total 4 columns):\n",
      " #   Column                 Non-Null Count  Dtype         \n",
      "---  ------                 --------------  -----         \n",
      " 0   balance_id             65 non-null     int64         \n",
      " 1   available_balance      65 non-null     float64       \n",
      " 2   balance_snapshot_date  65 non-null     datetime64[ns]\n",
      " 3   creation_date          65 non-null     datetime64[ns]\n",
      "dtypes: datetime64[ns](2), float64(1), int64(1)\n",
      "memory usage: 2.5 KB\n"
     ]
    }
   ],
   "source": [
    "receiving_partner_balances.info()"
   ]
  },
  {
   "cell_type": "code",
   "execution_count": 11,
   "metadata": {},
   "outputs": [
    {
     "data": {
      "text/plain": [
       "array([120, 213])"
      ]
     },
     "execution_count": 11,
     "metadata": {},
     "output_type": "execute_result"
    }
   ],
   "source": [
    "receiving_partner_balances[\"balance_id\"].unique()"
   ]
  },
  {
   "cell_type": "code",
   "execution_count": 12,
   "metadata": {},
   "outputs": [
    {
     "data": {
      "text/plain": [
       "array([120, 213])"
      ]
     },
     "execution_count": 12,
     "metadata": {},
     "output_type": "execute_result"
    }
   ],
   "source": [
    "balance_movements[\"balance_id\"].unique()"
   ]
  }
 ],
 "metadata": {
  "kernelspec": {
   "display_name": "Python 3 (ipykernel)",
   "language": "python",
   "name": "python3"
  },
  "language_info": {
   "codemirror_mode": {
    "name": "ipython",
    "version": 3
   },
   "file_extension": ".py",
   "mimetype": "text/x-python",
   "name": "python",
   "nbconvert_exporter": "python",
   "pygments_lexer": "ipython3",
   "version": "3.10.13"
  }
 },
 "nbformat": 4,
 "nbformat_minor": 4
}
